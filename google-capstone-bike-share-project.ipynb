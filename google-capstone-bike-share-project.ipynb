{
 "cells": [
  {
   "cell_type": "markdown",
   "id": "5614a14c",
   "metadata": {
    "papermill": {
     "duration": 0.012201,
     "end_time": "2023-09-22T15:58:32.496938",
     "exception": false,
     "start_time": "2023-09-22T15:58:32.484737",
     "status": "completed"
    },
    "tags": []
   },
   "source": [
    "**Hello my name is Abdillahi Musa and below is a case study I completed for Google's data analysis course. **\n",
    "\n",
    "I will be using python for this analysis."
   ]
  },
  {
   "cell_type": "markdown",
   "id": "c6f1ad1d",
   "metadata": {
    "papermill": {
     "duration": 0.011356,
     "end_time": "2023-09-22T15:58:32.520882",
     "exception": false,
     "start_time": "2023-09-22T15:58:32.509526",
     "status": "completed"
    },
    "tags": []
   },
   "source": [
    "Case Study: How Does a Bike-Share Navigate Speedy Success?\n",
    "**Introduction**\n",
    "Welcome to the Cyclistic bike-share analysis case study! In this case study, I will perform many real-world tasks of a junior data analyst. I will work for a fictional company, Cyclistic, and meet different characters and team members. In order to answer the key business questions, I will follow the steps of the data analysis process: ask, prepare, process, analyze, share, and act.\n",
    "\n",
    "**Scenario**\n",
    "You are a junior data analyst working in the marketing analyst team at Cyclistic, a bike-share company in Chicago. The director of marketing believes the company’s future success depends on maximizing the number of annual memberships. Therefore, your team wants to understand how casual riders and annual members use Cyclistic bikes differently. From these insights, your team will design a new marketing strategy to convert casual riders into annual members. But first, Cyclistic executives must approve your recommendations, so they must be backed up with compelling data insights and professional data visualizations.\n",
    "\n",
    "**About the company**\n",
    "In 2016, Cyclistic launched a successful bike-share offering. Since then, the program has grown to a fleet of 5,824 bicycles that are geotracked and locked into a network of 692 stations across Chicago. The bikes can be unlocked from one station and returned to any other station in the system anytime.\n",
    "Until now, Cyclistic’s marketing strategy relied on building general awareness and appealing to broad consumer segments. One approach that helped make these things possible was the flexibility of its pricing plans: single-ride passes, full-day passes, and annual memberships. Customers who purchase single-ride or full-day passes are referred to as casual riders. Customers who purchase annual memberships are Cyclistic members.\n",
    "Cyclistic’s finance analysts have concluded that annual members are much more profitable than casual riders. Although the pricing flexibility helps Cyclistic attract more customers, Moreno believes that maximizing the number of annual members will be key to future growth. Rather than creating a marketing campaign that targets all-new customers, Moreno believes there is a very good chance to convert casual riders into members. She notes that casual riders are already aware of the Cyclistic program and have chosen Cyclistic for their mobility needs.\n",
    "Moreno has set a clear goal: Design marketing strategies aimed at converting casual riders into annual members. In order to do that, however, the marketing analyst team needs to better understand how annual members and casual riders differ, why casual riders would buy a membership, and how digital media could affect their marketing tactics. Moreno and her team are interested in analyzing the Cyclistic historical bike trip data to identify trends.\n",
    "\n",
    "**Ask**\n",
    "Three questions will guide the future marketing program:\n",
    "1. How do annual members and casual riders use Cyclistic bikes differently?\n",
    "2. Why would casual riders buy Cyclistic annual memberships?\n",
    "3. How can Cyclistic use digital media to influence casual riders to become members?"
   ]
  },
  {
   "cell_type": "markdown",
   "id": "08d8e891",
   "metadata": {
    "papermill": {
     "duration": 0.011214,
     "end_time": "2023-09-22T15:58:32.543830",
     "exception": false,
     "start_time": "2023-09-22T15:58:32.532616",
     "status": "completed"
    },
    "tags": []
   },
   "source": [
    "I will be attempting to answer these questions with the help of python. "
   ]
  },
  {
   "cell_type": "markdown",
   "id": "039bcf39",
   "metadata": {
    "papermill": {
     "duration": 0.011257,
     "end_time": "2023-09-22T15:58:32.567011",
     "exception": false,
     "start_time": "2023-09-22T15:58:32.555754",
     "status": "completed"
    },
    "tags": []
   },
   "source": [
    "**This is just me loading all the libraries that I need to complete this analysis. I also decided to merge all the data together because I noticed all the columns for files were the exact same and this would make my analysis a lot easier.**"
   ]
  },
  {
   "cell_type": "code",
   "execution_count": 1,
   "id": "661bc97e",
   "metadata": {
    "_cell_guid": "b1076dfc-b9ad-4769-8c92-a6c4dae69d19",
    "_uuid": "8f2839f25d086af736a60e9eeb907d3b93b6e0e5",
    "execution": {
     "iopub.execute_input": "2023-09-22T15:58:32.593252Z",
     "iopub.status.busy": "2023-09-22T15:58:32.592037Z",
     "iopub.status.idle": "2023-09-22T15:59:25.310375Z",
     "shell.execute_reply": "2023-09-22T15:59:25.309048Z"
    },
    "papermill": {
     "duration": 52.746947,
     "end_time": "2023-09-22T15:59:25.325600",
     "exception": false,
     "start_time": "2023-09-22T15:58:32.578653",
     "status": "completed"
    },
    "tags": []
   },
   "outputs": [
    {
     "data": {
      "text/plain": [
       "ride_id               False\n",
       "rideable_type         False\n",
       "started_at            False\n",
       "ended_at              False\n",
       "start_station_name     True\n",
       "start_station_id       True\n",
       "end_station_name       True\n",
       "end_station_id         True\n",
       "start_lat             False\n",
       "start_lng             False\n",
       "end_lat                True\n",
       "end_lng                True\n",
       "member_casual         False\n",
       "dtype: bool"
      ]
     },
     "execution_count": 1,
     "metadata": {},
     "output_type": "execute_result"
    }
   ],
   "source": [
    "import pandas as pd\n",
    "import numpy as np\n",
    "import datetime\n",
    "import seaborn as sns\n",
    "from pandas.api.types import CategoricalDtype\n",
    "import matplotlib.pyplot as plt\n",
    "\n",
    "apr22 = pd.read_csv('/kaggle/input/google-bike-share-data/202204-divvy-tripdata.csv')\n",
    "may22 = pd.read_csv('/kaggle/input/google-bike-share-data/202205-divvy-tripdata.csv')\n",
    "jun22 = pd.read_csv('/kaggle/input/google-bike-share-data/202206-divvy-tripdata.csv')\n",
    "jul22 = pd.read_csv('/kaggle/input/google-bike-share-data/202207-divvy-tripdata.csv')\n",
    "aug22 = pd.read_csv('/kaggle/input/google-bike-share-data/202208-divvy-tripdata.csv')\n",
    "sep22 = pd.read_csv('/kaggle/input/google-bike-share-data/202209-divvy-publictripdata.csv')\n",
    "oct22 = pd.read_csv('/kaggle/input/google-bike-share-data/202210-divvy-tripdata.csv')\n",
    "nov22 = pd.read_csv('/kaggle/input/google-bike-share-data/202211-divvy-tripdata.csv')\n",
    "dec22 = pd.read_csv('/kaggle/input/google-bike-share-data/202212-divvy-tripdata.csv')\n",
    "jan23 = pd.read_csv('/kaggle/input/google-bike-share-data/202301-divvy-tripdata.csv')\n",
    "feb23 = pd.read_csv('/kaggle/input/google-bike-share-data/202302-divvy-tripdata.csv')\n",
    "mar23 = pd.read_csv('/kaggle/input/google-bike-share-data/202303-divvy-tripdata.csv')\n",
    "apr23 = pd.read_csv('/kaggle/input/google-bike-share-data/202304-divvy-tripdata.csv')\n",
    "\n",
    "tripdata = pd.concat([apr22, may22, jun22, jul22, aug22, sep22, oct22, nov22, dec22, jan23, feb23, mar23, apr23])\n",
    "tripdata.dtypes\n",
    "tripdata.shape\n",
    "tripdata.isnull().any()"
   ]
  },
  {
   "cell_type": "markdown",
   "id": "4610799e",
   "metadata": {
    "papermill": {
     "duration": 0.012137,
     "end_time": "2023-09-22T15:59:25.349757",
     "exception": false,
     "start_time": "2023-09-22T15:59:25.337620",
     "status": "completed"
    },
    "tags": []
   },
   "source": [
    "**Below I am creating and removing columns I will not need. Also changing types**\n",
    "This is part of the data transforming. Getting it ready for analysis."
   ]
  },
  {
   "cell_type": "code",
   "execution_count": 2,
   "id": "ae33c438",
   "metadata": {
    "execution": {
     "iopub.execute_input": "2023-09-22T15:59:25.376561Z",
     "iopub.status.busy": "2023-09-22T15:59:25.376101Z",
     "iopub.status.idle": "2023-09-22T15:59:44.096369Z",
     "shell.execute_reply": "2023-09-22T15:59:44.094961Z"
    },
    "papermill": {
     "duration": 18.737598,
     "end_time": "2023-09-22T15:59:44.099337",
     "exception": false,
     "start_time": "2023-09-22T15:59:25.361739",
     "status": "completed"
    },
    "tags": []
   },
   "outputs": [],
   "source": [
    "tripdata.isnull().values.sum()\n",
    "tripdata['started_at'] = pd.to_datetime(tripdata['started_at'])\n",
    "tripdata['ended_at'] = pd.to_datetime(tripdata['ended_at'])\n",
    "tripdata['dayofweek'] = tripdata['started_at'].dt.day_name()\n",
    "to_drop = ['start_station_name', 'start_station_id', 'end_station_name', 'end_station_id', 'end_lat', 'end_lng',]\n",
    "tripdata.drop(to_drop, inplace = True, axis = 1)\n",
    "tripdata['hour'] = tripdata['started_at'].dt.hour\n",
    "tripdata = tripdata.astype({'hour':'int8'})\n",
    "tripdata['month'] = tripdata['started_at'].dt.month_name()\n",
    "tripdata['ride_length'] = (tripdata['ended_at'] - tripdata['started_at']) / datetime.timedelta(minutes=1)\n",
    "tripdata['ride_length'] = tripdata['ride_length'].astype('int32')\n"
   ]
  },
  {
   "cell_type": "code",
   "execution_count": 3,
   "id": "c895d080",
   "metadata": {
    "execution": {
     "iopub.execute_input": "2023-09-22T15:59:44.125636Z",
     "iopub.status.busy": "2023-09-22T15:59:44.125219Z",
     "iopub.status.idle": "2023-09-22T15:59:44.311590Z",
     "shell.execute_reply": "2023-09-22T15:59:44.310359Z"
    },
    "papermill": {
     "duration": 0.202847,
     "end_time": "2023-09-22T15:59:44.314182",
     "exception": false,
     "start_time": "2023-09-22T15:59:44.111335",
     "status": "completed"
    },
    "tags": []
   },
   "outputs": [
    {
     "data": {
      "text/plain": [
       "ride_id          147831\n",
       "rideable_type    147831\n",
       "started_at       147831\n",
       "ended_at         147831\n",
       "start_lat        147831\n",
       "start_lng        147831\n",
       "member_casual    147831\n",
       "dayofweek        147831\n",
       "hour             147831\n",
       "month            147831\n",
       "ride_length      147831\n",
       "dtype: int64"
      ]
     },
     "execution_count": 3,
     "metadata": {},
     "output_type": "execute_result"
    }
   ],
   "source": [
    "tripdata[tripdata['ride_length'] <= 0].count()"
   ]
  },
  {
   "cell_type": "code",
   "execution_count": 4,
   "id": "224ecac7",
   "metadata": {
    "execution": {
     "iopub.execute_input": "2023-09-22T15:59:44.340337Z",
     "iopub.status.busy": "2023-09-22T15:59:44.339911Z",
     "iopub.status.idle": "2023-09-22T15:59:49.357693Z",
     "shell.execute_reply": "2023-09-22T15:59:49.355932Z"
    },
    "papermill": {
     "duration": 5.034324,
     "end_time": "2023-09-22T15:59:49.360580",
     "exception": false,
     "start_time": "2023-09-22T15:59:44.326256",
     "status": "completed"
    },
    "tags": []
   },
   "outputs": [
    {
     "data": {
      "text/html": [
       "<div>\n",
       "<style scoped>\n",
       "    .dataframe tbody tr th:only-of-type {\n",
       "        vertical-align: middle;\n",
       "    }\n",
       "\n",
       "    .dataframe tbody tr th {\n",
       "        vertical-align: top;\n",
       "    }\n",
       "\n",
       "    .dataframe thead th {\n",
       "        text-align: right;\n",
       "    }\n",
       "</style>\n",
       "<table border=\"1\" class=\"dataframe\">\n",
       "  <thead>\n",
       "    <tr style=\"text-align: right;\">\n",
       "      <th></th>\n",
       "      <th>ride_id</th>\n",
       "      <th>rideable_type</th>\n",
       "      <th>started_at</th>\n",
       "      <th>ended_at</th>\n",
       "      <th>start_lat</th>\n",
       "      <th>start_lng</th>\n",
       "      <th>member_casual</th>\n",
       "      <th>dayofweek</th>\n",
       "      <th>hour</th>\n",
       "      <th>month</th>\n",
       "      <th>ride_length</th>\n",
       "    </tr>\n",
       "  </thead>\n",
       "  <tbody>\n",
       "    <tr>\n",
       "      <th>0</th>\n",
       "      <td>3564070EEFD12711</td>\n",
       "      <td>electric_bike</td>\n",
       "      <td>2022-04-06 17:42:48</td>\n",
       "      <td>2022-04-06 17:54:36</td>\n",
       "      <td>42.019135</td>\n",
       "      <td>-87.673532</td>\n",
       "      <td>member</td>\n",
       "      <td>Wednesday</td>\n",
       "      <td>17</td>\n",
       "      <td>April</td>\n",
       "      <td>11</td>\n",
       "    </tr>\n",
       "    <tr>\n",
       "      <th>1</th>\n",
       "      <td>0B820C7FCF22F489</td>\n",
       "      <td>classic_bike</td>\n",
       "      <td>2022-04-24 19:23:07</td>\n",
       "      <td>2022-04-24 19:43:17</td>\n",
       "      <td>41.853085</td>\n",
       "      <td>-87.631931</td>\n",
       "      <td>member</td>\n",
       "      <td>Sunday</td>\n",
       "      <td>19</td>\n",
       "      <td>April</td>\n",
       "      <td>20</td>\n",
       "    </tr>\n",
       "    <tr>\n",
       "      <th>3</th>\n",
       "      <td>84D4751AEB31888D</td>\n",
       "      <td>classic_bike</td>\n",
       "      <td>2022-04-22 21:14:06</td>\n",
       "      <td>2022-04-22 21:23:29</td>\n",
       "      <td>41.853085</td>\n",
       "      <td>-87.631931</td>\n",
       "      <td>casual</td>\n",
       "      <td>Friday</td>\n",
       "      <td>21</td>\n",
       "      <td>April</td>\n",
       "      <td>9</td>\n",
       "    </tr>\n",
       "    <tr>\n",
       "      <th>4</th>\n",
       "      <td>5664BCF0D1DE7A8B</td>\n",
       "      <td>electric_bike</td>\n",
       "      <td>2022-04-16 15:56:30</td>\n",
       "      <td>2022-04-16 16:02:11</td>\n",
       "      <td>41.871808</td>\n",
       "      <td>-87.646574</td>\n",
       "      <td>member</td>\n",
       "      <td>Saturday</td>\n",
       "      <td>15</td>\n",
       "      <td>April</td>\n",
       "      <td>5</td>\n",
       "    </tr>\n",
       "    <tr>\n",
       "      <th>5</th>\n",
       "      <td>AA9EB7BD2E1FC128</td>\n",
       "      <td>classic_bike</td>\n",
       "      <td>2022-04-21 16:52:33</td>\n",
       "      <td>2022-04-21 16:56:51</td>\n",
       "      <td>41.884616</td>\n",
       "      <td>-87.644571</td>\n",
       "      <td>member</td>\n",
       "      <td>Thursday</td>\n",
       "      <td>16</td>\n",
       "      <td>April</td>\n",
       "      <td>4</td>\n",
       "    </tr>\n",
       "  </tbody>\n",
       "</table>\n",
       "</div>"
      ],
      "text/plain": [
       "            ride_id  rideable_type          started_at            ended_at  \\\n",
       "0  3564070EEFD12711  electric_bike 2022-04-06 17:42:48 2022-04-06 17:54:36   \n",
       "1  0B820C7FCF22F489   classic_bike 2022-04-24 19:23:07 2022-04-24 19:43:17   \n",
       "3  84D4751AEB31888D   classic_bike 2022-04-22 21:14:06 2022-04-22 21:23:29   \n",
       "4  5664BCF0D1DE7A8B  electric_bike 2022-04-16 15:56:30 2022-04-16 16:02:11   \n",
       "5  AA9EB7BD2E1FC128   classic_bike 2022-04-21 16:52:33 2022-04-21 16:56:51   \n",
       "\n",
       "   start_lat  start_lng member_casual  dayofweek  hour  month  ride_length  \n",
       "0  42.019135 -87.673532        member  Wednesday    17  April           11  \n",
       "1  41.853085 -87.631931        member     Sunday    19  April           20  \n",
       "3  41.853085 -87.631931        casual     Friday    21  April            9  \n",
       "4  41.871808 -87.646574        member   Saturday    15  April            5  \n",
       "5  41.884616 -87.644571        member   Thursday    16  April            4  "
      ]
     },
     "execution_count": 4,
     "metadata": {},
     "output_type": "execute_result"
    }
   ],
   "source": [
    "tripdata = tripdata.drop(tripdata[tripdata.ride_length <= 0].index)\n",
    "tripdata[tripdata['ride_length'] <= 0].count()\n",
    "tripdata.head()"
   ]
  },
  {
   "cell_type": "markdown",
   "id": "c51adef1",
   "metadata": {
    "papermill": {
     "duration": 0.013405,
     "end_time": "2023-09-22T15:59:49.387185",
     "exception": false,
     "start_time": "2023-09-22T15:59:49.373780",
     "status": "completed"
    },
    "tags": []
   },
   "source": [
    "**Now we will get ready to analyze our data with multiple pivot tables**\n",
    "\n",
    "Since we are trying to figure out how casual and member riders differ we will first take a look at this table that shows us how many rides are being taken by the customer type member/casual. We can clearly see members are taking much more rides than casuals."
   ]
  },
  {
   "cell_type": "code",
   "execution_count": 5,
   "id": "4fcf5d16",
   "metadata": {
    "execution": {
     "iopub.execute_input": "2023-09-22T15:59:49.414688Z",
     "iopub.status.busy": "2023-09-22T15:59:49.413927Z",
     "iopub.status.idle": "2023-09-22T15:59:50.433595Z",
     "shell.execute_reply": "2023-09-22T15:59:50.432122Z"
    },
    "papermill": {
     "duration": 1.036558,
     "end_time": "2023-09-22T15:59:50.436367",
     "exception": false,
     "start_time": "2023-09-22T15:59:49.399809",
     "status": "completed"
    },
    "tags": []
   },
   "outputs": [
    {
     "data": {
      "text/html": [
       "<div>\n",
       "<style scoped>\n",
       "    .dataframe tbody tr th:only-of-type {\n",
       "        vertical-align: middle;\n",
       "    }\n",
       "\n",
       "    .dataframe tbody tr th {\n",
       "        vertical-align: top;\n",
       "    }\n",
       "\n",
       "    .dataframe thead th {\n",
       "        text-align: right;\n",
       "    }\n",
       "</style>\n",
       "<table border=\"1\" class=\"dataframe\">\n",
       "  <thead>\n",
       "    <tr style=\"text-align: right;\">\n",
       "      <th></th>\n",
       "      <th>ride_id</th>\n",
       "    </tr>\n",
       "    <tr>\n",
       "      <th>member_casual</th>\n",
       "      <th></th>\n",
       "    </tr>\n",
       "  </thead>\n",
       "  <tbody>\n",
       "    <tr>\n",
       "      <th>casual</th>\n",
       "      <td>2013732</td>\n",
       "    </tr>\n",
       "    <tr>\n",
       "      <th>member</th>\n",
       "      <td>2970866</td>\n",
       "    </tr>\n",
       "  </tbody>\n",
       "</table>\n",
       "</div>"
      ],
      "text/plain": [
       "               ride_id\n",
       "member_casual         \n",
       "casual         2013732\n",
       "member         2970866"
      ]
     },
     "execution_count": 5,
     "metadata": {},
     "output_type": "execute_result"
    }
   ],
   "source": [
    "df = tripdata.groupby('member_casual', as_index=True)[['ride_id']].count()\n",
    "df"
   ]
  },
  {
   "cell_type": "markdown",
   "id": "a2ae8284",
   "metadata": {
    "papermill": {
     "duration": 0.012213,
     "end_time": "2023-09-22T15:59:50.461174",
     "exception": false,
     "start_time": "2023-09-22T15:59:50.448961",
     "status": "completed"
    },
    "tags": []
   },
   "source": [
    "**We will now take a look at how long each group takes per ride. This table shows us the average ride length of each member. We notice casual riders are taking much longer rides than our members.**"
   ]
  },
  {
   "cell_type": "code",
   "execution_count": 6,
   "id": "2819efd5",
   "metadata": {
    "execution": {
     "iopub.execute_input": "2023-09-22T15:59:50.487948Z",
     "iopub.status.busy": "2023-09-22T15:59:50.487495Z",
     "iopub.status.idle": "2023-09-22T15:59:51.020915Z",
     "shell.execute_reply": "2023-09-22T15:59:51.019687Z"
    },
    "papermill": {
     "duration": 0.550044,
     "end_time": "2023-09-22T15:59:51.023599",
     "exception": false,
     "start_time": "2023-09-22T15:59:50.473555",
     "status": "completed"
    },
    "tags": []
   },
   "outputs": [
    {
     "data": {
      "text/html": [
       "<div>\n",
       "<style scoped>\n",
       "    .dataframe tbody tr th:only-of-type {\n",
       "        vertical-align: middle;\n",
       "    }\n",
       "\n",
       "    .dataframe tbody tr th {\n",
       "        vertical-align: top;\n",
       "    }\n",
       "\n",
       "    .dataframe thead th {\n",
       "        text-align: right;\n",
       "    }\n",
       "</style>\n",
       "<table border=\"1\" class=\"dataframe\">\n",
       "  <thead>\n",
       "    <tr style=\"text-align: right;\">\n",
       "      <th></th>\n",
       "      <th>ride_length</th>\n",
       "    </tr>\n",
       "    <tr>\n",
       "      <th>member_casual</th>\n",
       "      <th></th>\n",
       "    </tr>\n",
       "  </thead>\n",
       "  <tbody>\n",
       "    <tr>\n",
       "      <th>casual</th>\n",
       "      <td>28.995858</td>\n",
       "    </tr>\n",
       "    <tr>\n",
       "      <th>member</th>\n",
       "      <td>12.315024</td>\n",
       "    </tr>\n",
       "  </tbody>\n",
       "</table>\n",
       "</div>"
      ],
      "text/plain": [
       "               ride_length\n",
       "member_casual             \n",
       "casual           28.995858\n",
       "member           12.315024"
      ]
     },
     "execution_count": 6,
     "metadata": {},
     "output_type": "execute_result"
    }
   ],
   "source": [
    "arl = tripdata.groupby('member_casual', as_index=True)[['ride_length']].mean()\n",
    "arl"
   ]
  },
  {
   "cell_type": "markdown",
   "id": "afc7a1da",
   "metadata": {
    "papermill": {
     "duration": 0.013409,
     "end_time": "2023-09-22T15:59:51.049835",
     "exception": false,
     "start_time": "2023-09-22T15:59:51.036426",
     "status": "completed"
    },
    "tags": []
   },
   "source": [
    "**We will now see what type of bike is most popular between both groups. This table shows the most popular choice of ride per members. Members perfer classic and electric bikes equally, however we notice a lot more casuals prefer riding electric bikes rather than classic. Members do not like using docked bikes and a small amount of casuals like riding the docked bikes. **"
   ]
  },
  {
   "cell_type": "code",
   "execution_count": 7,
   "id": "1c0c2eed",
   "metadata": {
    "execution": {
     "iopub.execute_input": "2023-09-22T15:59:51.077936Z",
     "iopub.status.busy": "2023-09-22T15:59:51.077537Z",
     "iopub.status.idle": "2023-09-22T15:59:56.359889Z",
     "shell.execute_reply": "2023-09-22T15:59:56.358264Z"
    },
    "papermill": {
     "duration": 5.299737,
     "end_time": "2023-09-22T15:59:56.362798",
     "exception": false,
     "start_time": "2023-09-22T15:59:51.063061",
     "status": "completed"
    },
    "tags": []
   },
   "outputs": [
    {
     "data": {
      "text/html": [
       "<div>\n",
       "<style scoped>\n",
       "    .dataframe tbody tr th:only-of-type {\n",
       "        vertical-align: middle;\n",
       "    }\n",
       "\n",
       "    .dataframe tbody tr th {\n",
       "        vertical-align: top;\n",
       "    }\n",
       "\n",
       "    .dataframe thead tr th {\n",
       "        text-align: left;\n",
       "    }\n",
       "\n",
       "    .dataframe thead tr:last-of-type th {\n",
       "        text-align: right;\n",
       "    }\n",
       "</style>\n",
       "<table border=\"1\" class=\"dataframe\">\n",
       "  <thead>\n",
       "    <tr>\n",
       "      <th></th>\n",
       "      <th></th>\n",
       "      <th>count</th>\n",
       "    </tr>\n",
       "    <tr>\n",
       "      <th></th>\n",
       "      <th></th>\n",
       "      <th>ride_id</th>\n",
       "    </tr>\n",
       "    <tr>\n",
       "      <th>rideable_type</th>\n",
       "      <th>member_casual</th>\n",
       "      <th></th>\n",
       "    </tr>\n",
       "  </thead>\n",
       "  <tbody>\n",
       "    <tr>\n",
       "      <th rowspan=\"2\" valign=\"top\">classic_bike</th>\n",
       "      <th>casual</th>\n",
       "      <td>763607</td>\n",
       "    </tr>\n",
       "    <tr>\n",
       "      <th>member</th>\n",
       "      <td>1489243</td>\n",
       "    </tr>\n",
       "    <tr>\n",
       "      <th>docked_bike</th>\n",
       "      <th>casual</th>\n",
       "      <td>148729</td>\n",
       "    </tr>\n",
       "    <tr>\n",
       "      <th rowspan=\"2\" valign=\"top\">electric_bike</th>\n",
       "      <th>casual</th>\n",
       "      <td>1101396</td>\n",
       "    </tr>\n",
       "    <tr>\n",
       "      <th>member</th>\n",
       "      <td>1481623</td>\n",
       "    </tr>\n",
       "    <tr>\n",
       "      <th>total count</th>\n",
       "      <th></th>\n",
       "      <td>4984598</td>\n",
       "    </tr>\n",
       "  </tbody>\n",
       "</table>\n",
       "</div>"
      ],
      "text/plain": [
       "                               count\n",
       "                             ride_id\n",
       "rideable_type member_casual         \n",
       "classic_bike  casual          763607\n",
       "              member         1489243\n",
       "docked_bike   casual          148729\n",
       "electric_bike casual         1101396\n",
       "              member         1481623\n",
       "total count                  4984598"
      ]
     },
     "execution_count": 7,
     "metadata": {},
     "output_type": "execute_result"
    }
   ],
   "source": [
    "rt_pivot = pd.pivot_table(tripdata, index=['rideable_type', 'member_casual'], values='ride_id', aggfunc=['count'], margins=True, margins_name='total count')\n",
    "rt_pivot"
   ]
  },
  {
   "cell_type": "markdown",
   "id": "120ab6ee",
   "metadata": {
    "papermill": {
     "duration": 0.012963,
     "end_time": "2023-09-22T15:59:56.388950",
     "exception": false,
     "start_time": "2023-09-22T15:59:56.375987",
     "status": "completed"
    },
    "tags": []
   },
   "source": [
    "**Judging from the table we can see that casuals and members like riding during the weekend however it is not clearly shown so later we will try to put this trend in a visualization. This table shows what days members rent out the bikes. We can see which days are most popular.**"
   ]
  },
  {
   "cell_type": "code",
   "execution_count": 8,
   "id": "f523ec06",
   "metadata": {
    "execution": {
     "iopub.execute_input": "2023-09-22T15:59:56.416885Z",
     "iopub.status.busy": "2023-09-22T15:59:56.416471Z",
     "iopub.status.idle": "2023-09-22T16:00:02.159161Z",
     "shell.execute_reply": "2023-09-22T16:00:02.157808Z"
    },
    "papermill": {
     "duration": 5.760401,
     "end_time": "2023-09-22T16:00:02.162328",
     "exception": false,
     "start_time": "2023-09-22T15:59:56.401927",
     "status": "completed"
    },
    "tags": []
   },
   "outputs": [
    {
     "data": {
      "text/html": [
       "<div>\n",
       "<style scoped>\n",
       "    .dataframe tbody tr th:only-of-type {\n",
       "        vertical-align: middle;\n",
       "    }\n",
       "\n",
       "    .dataframe tbody tr th {\n",
       "        vertical-align: top;\n",
       "    }\n",
       "\n",
       "    .dataframe thead tr th {\n",
       "        text-align: left;\n",
       "    }\n",
       "\n",
       "    .dataframe thead tr:last-of-type th {\n",
       "        text-align: right;\n",
       "    }\n",
       "</style>\n",
       "<table border=\"1\" class=\"dataframe\">\n",
       "  <thead>\n",
       "    <tr>\n",
       "      <th></th>\n",
       "      <th></th>\n",
       "      <th>count</th>\n",
       "    </tr>\n",
       "    <tr>\n",
       "      <th></th>\n",
       "      <th></th>\n",
       "      <th>ride_id</th>\n",
       "    </tr>\n",
       "    <tr>\n",
       "      <th>dayofweek</th>\n",
       "      <th>member_casual</th>\n",
       "      <th></th>\n",
       "    </tr>\n",
       "  </thead>\n",
       "  <tbody>\n",
       "    <tr>\n",
       "      <th rowspan=\"2\" valign=\"top\">Friday</th>\n",
       "      <th>casual</th>\n",
       "      <td>297553</td>\n",
       "    </tr>\n",
       "    <tr>\n",
       "      <th>member</th>\n",
       "      <td>423620</td>\n",
       "    </tr>\n",
       "    <tr>\n",
       "      <th rowspan=\"2\" valign=\"top\">Monday</th>\n",
       "      <th>casual</th>\n",
       "      <td>233558</td>\n",
       "    </tr>\n",
       "    <tr>\n",
       "      <th>member</th>\n",
       "      <td>410772</td>\n",
       "    </tr>\n",
       "    <tr>\n",
       "      <th rowspan=\"2\" valign=\"top\">Saturday</th>\n",
       "      <th>casual</th>\n",
       "      <td>409203</td>\n",
       "    </tr>\n",
       "    <tr>\n",
       "      <th>member</th>\n",
       "      <td>391789</td>\n",
       "    </tr>\n",
       "    <tr>\n",
       "      <th rowspan=\"2\" valign=\"top\">Sunday</th>\n",
       "      <th>casual</th>\n",
       "      <td>331601</td>\n",
       "    </tr>\n",
       "    <tr>\n",
       "      <th>member</th>\n",
       "      <td>339778</td>\n",
       "    </tr>\n",
       "    <tr>\n",
       "      <th rowspan=\"2\" valign=\"top\">Thursday</th>\n",
       "      <th>casual</th>\n",
       "      <td>270850</td>\n",
       "    </tr>\n",
       "    <tr>\n",
       "      <th>member</th>\n",
       "      <td>474632</td>\n",
       "    </tr>\n",
       "    <tr>\n",
       "      <th rowspan=\"2\" valign=\"top\">Tuesday</th>\n",
       "      <th>casual</th>\n",
       "      <td>232047</td>\n",
       "    </tr>\n",
       "    <tr>\n",
       "      <th>member</th>\n",
       "      <td>462912</td>\n",
       "    </tr>\n",
       "    <tr>\n",
       "      <th rowspan=\"2\" valign=\"top\">Wednesday</th>\n",
       "      <th>casual</th>\n",
       "      <td>238920</td>\n",
       "    </tr>\n",
       "    <tr>\n",
       "      <th>member</th>\n",
       "      <td>467363</td>\n",
       "    </tr>\n",
       "    <tr>\n",
       "      <th>total count</th>\n",
       "      <th></th>\n",
       "      <td>4984598</td>\n",
       "    </tr>\n",
       "  </tbody>\n",
       "</table>\n",
       "</div>"
      ],
      "text/plain": [
       "                             count\n",
       "                           ride_id\n",
       "dayofweek   member_casual         \n",
       "Friday      casual          297553\n",
       "            member          423620\n",
       "Monday      casual          233558\n",
       "            member          410772\n",
       "Saturday    casual          409203\n",
       "            member          391789\n",
       "Sunday      casual          331601\n",
       "            member          339778\n",
       "Thursday    casual          270850\n",
       "            member          474632\n",
       "Tuesday     casual          232047\n",
       "            member          462912\n",
       "Wednesday   casual          238920\n",
       "            member          467363\n",
       "total count                4984598"
      ]
     },
     "execution_count": 8,
     "metadata": {},
     "output_type": "execute_result"
    }
   ],
   "source": [
    "pdw_pivot = pd.pivot_table(tripdata, index=['dayofweek', 'member_casual'], values='ride_id', aggfunc=['count'],\n",
    "                         margins=True, margins_name='total count')\n",
    "pdw_pivot"
   ]
  },
  {
   "cell_type": "markdown",
   "id": "b5dc6c64",
   "metadata": {
    "papermill": {
     "duration": 0.014118,
     "end_time": "2023-09-22T16:00:02.192463",
     "exception": false,
     "start_time": "2023-09-22T16:00:02.178345",
     "status": "completed"
    },
    "tags": []
   },
   "source": [
    "**Similarly to the table above, this table shows us which months are most popular between the riders. We will try to visualize this later on to get a better idea. \n",
    "\n",
    "Monthly trips done by riders. We can see which months are most popular. **"
   ]
  },
  {
   "cell_type": "code",
   "execution_count": 9,
   "id": "57059f67",
   "metadata": {
    "execution": {
     "iopub.execute_input": "2023-09-22T16:00:02.224133Z",
     "iopub.status.busy": "2023-09-22T16:00:02.223424Z",
     "iopub.status.idle": "2023-09-22T16:00:07.854305Z",
     "shell.execute_reply": "2023-09-22T16:00:07.853093Z"
    },
    "papermill": {
     "duration": 5.651968,
     "end_time": "2023-09-22T16:00:07.857812",
     "exception": false,
     "start_time": "2023-09-22T16:00:02.205844",
     "status": "completed"
    },
    "tags": []
   },
   "outputs": [
    {
     "data": {
      "text/html": [
       "<div>\n",
       "<style scoped>\n",
       "    .dataframe tbody tr th:only-of-type {\n",
       "        vertical-align: middle;\n",
       "    }\n",
       "\n",
       "    .dataframe tbody tr th {\n",
       "        vertical-align: top;\n",
       "    }\n",
       "\n",
       "    .dataframe thead tr th {\n",
       "        text-align: left;\n",
       "    }\n",
       "\n",
       "    .dataframe thead tr:last-of-type th {\n",
       "        text-align: right;\n",
       "    }\n",
       "</style>\n",
       "<table border=\"1\" class=\"dataframe\">\n",
       "  <thead>\n",
       "    <tr>\n",
       "      <th></th>\n",
       "      <th></th>\n",
       "      <th>count</th>\n",
       "    </tr>\n",
       "    <tr>\n",
       "      <th></th>\n",
       "      <th></th>\n",
       "      <th>ride_id</th>\n",
       "    </tr>\n",
       "    <tr>\n",
       "      <th>month</th>\n",
       "      <th>member_casual</th>\n",
       "      <th></th>\n",
       "    </tr>\n",
       "  </thead>\n",
       "  <tbody>\n",
       "    <tr>\n",
       "      <th rowspan=\"2\" valign=\"top\">April</th>\n",
       "      <th>casual</th>\n",
       "      <td>211563</td>\n",
       "    </tr>\n",
       "    <tr>\n",
       "      <th>member</th>\n",
       "      <td>404497</td>\n",
       "    </tr>\n",
       "    <tr>\n",
       "      <th rowspan=\"2\" valign=\"top\">August</th>\n",
       "      <th>casual</th>\n",
       "      <td>297677</td>\n",
       "    </tr>\n",
       "    <tr>\n",
       "      <th>member</th>\n",
       "      <td>357036</td>\n",
       "    </tr>\n",
       "    <tr>\n",
       "      <th rowspan=\"2\" valign=\"top\">December</th>\n",
       "      <th>casual</th>\n",
       "      <td>32189</td>\n",
       "    </tr>\n",
       "    <tr>\n",
       "      <th>member</th>\n",
       "      <td>97880</td>\n",
       "    </tr>\n",
       "    <tr>\n",
       "      <th rowspan=\"2\" valign=\"top\">February</th>\n",
       "      <th>casual</th>\n",
       "      <td>30846</td>\n",
       "    </tr>\n",
       "    <tr>\n",
       "      <th>member</th>\n",
       "      <td>105362</td>\n",
       "    </tr>\n",
       "    <tr>\n",
       "      <th rowspan=\"2\" valign=\"top\">January</th>\n",
       "      <th>casual</th>\n",
       "      <td>28763</td>\n",
       "    </tr>\n",
       "    <tr>\n",
       "      <th>member</th>\n",
       "      <td>107338</td>\n",
       "    </tr>\n",
       "    <tr>\n",
       "      <th rowspan=\"2\" valign=\"top\">July</th>\n",
       "      <th>casual</th>\n",
       "      <td>343175</td>\n",
       "    </tr>\n",
       "    <tr>\n",
       "      <th>member</th>\n",
       "      <td>346935</td>\n",
       "    </tr>\n",
       "    <tr>\n",
       "      <th rowspan=\"2\" valign=\"top\">June</th>\n",
       "      <th>casual</th>\n",
       "      <td>306440</td>\n",
       "    </tr>\n",
       "    <tr>\n",
       "      <th>member</th>\n",
       "      <td>332388</td>\n",
       "    </tr>\n",
       "    <tr>\n",
       "      <th rowspan=\"2\" valign=\"top\">March</th>\n",
       "      <th>casual</th>\n",
       "      <td>45754</td>\n",
       "    </tr>\n",
       "    <tr>\n",
       "      <th>member</th>\n",
       "      <td>143731</td>\n",
       "    </tr>\n",
       "    <tr>\n",
       "      <th rowspan=\"2\" valign=\"top\">May</th>\n",
       "      <th>casual</th>\n",
       "      <td>228807</td>\n",
       "    </tr>\n",
       "    <tr>\n",
       "      <th>member</th>\n",
       "      <td>285578</td>\n",
       "    </tr>\n",
       "    <tr>\n",
       "      <th rowspan=\"2\" valign=\"top\">November</th>\n",
       "      <th>casual</th>\n",
       "      <td>76513</td>\n",
       "    </tr>\n",
       "    <tr>\n",
       "      <th>member</th>\n",
       "      <td>179270</td>\n",
       "    </tr>\n",
       "    <tr>\n",
       "      <th rowspan=\"2\" valign=\"top\">October</th>\n",
       "      <th>casual</th>\n",
       "      <td>168713</td>\n",
       "    </tr>\n",
       "    <tr>\n",
       "      <th>member</th>\n",
       "      <td>279704</td>\n",
       "    </tr>\n",
       "    <tr>\n",
       "      <th rowspan=\"2\" valign=\"top\">September</th>\n",
       "      <th>casual</th>\n",
       "      <td>243292</td>\n",
       "    </tr>\n",
       "    <tr>\n",
       "      <th>member</th>\n",
       "      <td>331147</td>\n",
       "    </tr>\n",
       "    <tr>\n",
       "      <th>total count</th>\n",
       "      <th></th>\n",
       "      <td>4984598</td>\n",
       "    </tr>\n",
       "  </tbody>\n",
       "</table>\n",
       "</div>"
      ],
      "text/plain": [
       "                             count\n",
       "                           ride_id\n",
       "month       member_casual         \n",
       "April       casual          211563\n",
       "            member          404497\n",
       "August      casual          297677\n",
       "            member          357036\n",
       "December    casual           32189\n",
       "            member           97880\n",
       "February    casual           30846\n",
       "            member          105362\n",
       "January     casual           28763\n",
       "            member          107338\n",
       "July        casual          343175\n",
       "            member          346935\n",
       "June        casual          306440\n",
       "            member          332388\n",
       "March       casual           45754\n",
       "            member          143731\n",
       "May         casual          228807\n",
       "            member          285578\n",
       "November    casual           76513\n",
       "            member          179270\n",
       "October     casual          168713\n",
       "            member          279704\n",
       "September   casual          243292\n",
       "            member          331147\n",
       "total count                4984598"
      ]
     },
     "execution_count": 9,
     "metadata": {},
     "output_type": "execute_result"
    }
   ],
   "source": [
    "pm_pivot = pd.pivot_table(tripdata, index=['month', 'member_casual'], values='ride_id', aggfunc=['count'],\n",
    "                         margins=True, margins_name='total count')\n",
    "pm_pivot"
   ]
  },
  {
   "cell_type": "markdown",
   "id": "d600daf8",
   "metadata": {
    "papermill": {
     "duration": 0.014237,
     "end_time": "2023-09-22T16:00:07.886275",
     "exception": false,
     "start_time": "2023-09-22T16:00:07.872038",
     "status": "completed"
    },
    "tags": []
   },
   "source": [
    "**The table below shows us the average amount of time riders take for each month in minutes. We can see members do not really fluctuate in how long their rides take per month, however we see that casuals take much longer during the summer. **"
   ]
  },
  {
   "cell_type": "code",
   "execution_count": 10,
   "id": "1658b4b1",
   "metadata": {
    "execution": {
     "iopub.execute_input": "2023-09-22T16:00:07.915540Z",
     "iopub.status.busy": "2023-09-22T16:00:07.915124Z",
     "iopub.status.idle": "2023-09-22T16:00:11.226601Z",
     "shell.execute_reply": "2023-09-22T16:00:11.225125Z"
    },
    "papermill": {
     "duration": 3.330201,
     "end_time": "2023-09-22T16:00:11.230165",
     "exception": false,
     "start_time": "2023-09-22T16:00:07.899964",
     "status": "completed"
    },
    "tags": []
   },
   "outputs": [
    {
     "data": {
      "text/html": [
       "<div>\n",
       "<style scoped>\n",
       "    .dataframe tbody tr th:only-of-type {\n",
       "        vertical-align: middle;\n",
       "    }\n",
       "\n",
       "    .dataframe tbody tr th {\n",
       "        vertical-align: top;\n",
       "    }\n",
       "\n",
       "    .dataframe thead tr th {\n",
       "        text-align: left;\n",
       "    }\n",
       "\n",
       "    .dataframe thead tr:last-of-type th {\n",
       "        text-align: right;\n",
       "    }\n",
       "</style>\n",
       "<table border=\"1\" class=\"dataframe\">\n",
       "  <thead>\n",
       "    <tr>\n",
       "      <th></th>\n",
       "      <th></th>\n",
       "      <th>mean</th>\n",
       "    </tr>\n",
       "    <tr>\n",
       "      <th></th>\n",
       "      <th></th>\n",
       "      <th>ride_length</th>\n",
       "    </tr>\n",
       "    <tr>\n",
       "      <th>month</th>\n",
       "      <th>member_casual</th>\n",
       "      <th></th>\n",
       "    </tr>\n",
       "  </thead>\n",
       "  <tbody>\n",
       "    <tr>\n",
       "      <th rowspan=\"2\" valign=\"top\">April</th>\n",
       "      <th>casual</th>\n",
       "      <td>28.441608</td>\n",
       "    </tr>\n",
       "    <tr>\n",
       "      <th>member</th>\n",
       "      <td>11.451628</td>\n",
       "    </tr>\n",
       "    <tr>\n",
       "      <th rowspan=\"2\" valign=\"top\">August</th>\n",
       "      <th>casual</th>\n",
       "      <td>29.557712</td>\n",
       "    </tr>\n",
       "    <tr>\n",
       "      <th>member</th>\n",
       "      <td>13.246681</td>\n",
       "    </tr>\n",
       "    <tr>\n",
       "      <th rowspan=\"2\" valign=\"top\">December</th>\n",
       "      <th>casual</th>\n",
       "      <td>23.478238</td>\n",
       "    </tr>\n",
       "    <tr>\n",
       "      <th>member</th>\n",
       "      <td>10.386238</td>\n",
       "    </tr>\n",
       "    <tr>\n",
       "      <th rowspan=\"2\" valign=\"top\">February</th>\n",
       "      <th>casual</th>\n",
       "      <td>23.270700</td>\n",
       "    </tr>\n",
       "    <tr>\n",
       "      <th>member</th>\n",
       "      <td>10.545738</td>\n",
       "    </tr>\n",
       "    <tr>\n",
       "      <th rowspan=\"2\" valign=\"top\">January</th>\n",
       "      <th>casual</th>\n",
       "      <td>23.715155</td>\n",
       "    </tr>\n",
       "    <tr>\n",
       "      <th>member</th>\n",
       "      <td>10.203488</td>\n",
       "    </tr>\n",
       "    <tr>\n",
       "      <th rowspan=\"2\" valign=\"top\">July</th>\n",
       "      <th>casual</th>\n",
       "      <td>29.563156</td>\n",
       "    </tr>\n",
       "    <tr>\n",
       "      <th>member</th>\n",
       "      <td>13.524035</td>\n",
       "    </tr>\n",
       "    <tr>\n",
       "      <th rowspan=\"2\" valign=\"top\">June</th>\n",
       "      <th>casual</th>\n",
       "      <td>32.511934</td>\n",
       "    </tr>\n",
       "    <tr>\n",
       "      <th>member</th>\n",
       "      <td>13.825839</td>\n",
       "    </tr>\n",
       "    <tr>\n",
       "      <th rowspan=\"2\" valign=\"top\">March</th>\n",
       "      <th>casual</th>\n",
       "      <td>22.021943</td>\n",
       "    </tr>\n",
       "    <tr>\n",
       "      <th>member</th>\n",
       "      <td>10.307971</td>\n",
       "    </tr>\n",
       "    <tr>\n",
       "      <th rowspan=\"2\" valign=\"top\">May</th>\n",
       "      <th>casual</th>\n",
       "      <td>31.006412</td>\n",
       "    </tr>\n",
       "    <tr>\n",
       "      <th>member</th>\n",
       "      <td>13.121543</td>\n",
       "    </tr>\n",
       "    <tr>\n",
       "      <th rowspan=\"2\" valign=\"top\">November</th>\n",
       "      <th>casual</th>\n",
       "      <td>21.750343</td>\n",
       "    </tr>\n",
       "    <tr>\n",
       "      <th>member</th>\n",
       "      <td>10.899520</td>\n",
       "    </tr>\n",
       "    <tr>\n",
       "      <th rowspan=\"2\" valign=\"top\">October</th>\n",
       "      <th>casual</th>\n",
       "      <td>27.377825</td>\n",
       "    </tr>\n",
       "    <tr>\n",
       "      <th>member</th>\n",
       "      <td>11.757905</td>\n",
       "    </tr>\n",
       "    <tr>\n",
       "      <th rowspan=\"2\" valign=\"top\">September</th>\n",
       "      <th>casual</th>\n",
       "      <td>28.463036</td>\n",
       "    </tr>\n",
       "    <tr>\n",
       "      <th>member</th>\n",
       "      <td>12.812002</td>\n",
       "    </tr>\n",
       "    <tr>\n",
       "      <th>total count</th>\n",
       "      <th></th>\n",
       "      <td>19.053929</td>\n",
       "    </tr>\n",
       "  </tbody>\n",
       "</table>\n",
       "</div>"
      ],
      "text/plain": [
       "                                 mean\n",
       "                          ride_length\n",
       "month       member_casual            \n",
       "April       casual          28.441608\n",
       "            member          11.451628\n",
       "August      casual          29.557712\n",
       "            member          13.246681\n",
       "December    casual          23.478238\n",
       "            member          10.386238\n",
       "February    casual          23.270700\n",
       "            member          10.545738\n",
       "January     casual          23.715155\n",
       "            member          10.203488\n",
       "July        casual          29.563156\n",
       "            member          13.524035\n",
       "June        casual          32.511934\n",
       "            member          13.825839\n",
       "March       casual          22.021943\n",
       "            member          10.307971\n",
       "May         casual          31.006412\n",
       "            member          13.121543\n",
       "November    casual          21.750343\n",
       "            member          10.899520\n",
       "October     casual          27.377825\n",
       "            member          11.757905\n",
       "September   casual          28.463036\n",
       "            member          12.812002\n",
       "total count                 19.053929"
      ]
     },
     "execution_count": 10,
     "metadata": {},
     "output_type": "execute_result"
    }
   ],
   "source": [
    "rlm_pivot = pd.pivot_table(tripdata, index=['month', 'member_casual'], values='ride_length', aggfunc=['mean'],\n",
    "                         margins=True, margins_name='total count')\n",
    "rlm_pivot"
   ]
  },
  {
   "cell_type": "markdown",
   "id": "7245cda8",
   "metadata": {
    "papermill": {
     "duration": 0.014276,
     "end_time": "2023-09-22T16:00:11.259910",
     "exception": false,
     "start_time": "2023-09-22T16:00:11.245634",
     "status": "completed"
    },
    "tags": []
   },
   "source": [
    "**The average amount of time riders take per day in a week. **"
   ]
  },
  {
   "cell_type": "code",
   "execution_count": 11,
   "id": "86bb3dc0",
   "metadata": {
    "execution": {
     "iopub.execute_input": "2023-09-22T16:00:11.356176Z",
     "iopub.status.busy": "2023-09-22T16:00:11.355766Z",
     "iopub.status.idle": "2023-09-22T16:00:14.688127Z",
     "shell.execute_reply": "2023-09-22T16:00:14.686702Z"
    },
    "papermill": {
     "duration": 3.416879,
     "end_time": "2023-09-22T16:00:14.690926",
     "exception": false,
     "start_time": "2023-09-22T16:00:11.274047",
     "status": "completed"
    },
    "tags": []
   },
   "outputs": [
    {
     "data": {
      "text/html": [
       "<div>\n",
       "<style scoped>\n",
       "    .dataframe tbody tr th:only-of-type {\n",
       "        vertical-align: middle;\n",
       "    }\n",
       "\n",
       "    .dataframe tbody tr th {\n",
       "        vertical-align: top;\n",
       "    }\n",
       "\n",
       "    .dataframe thead tr th {\n",
       "        text-align: left;\n",
       "    }\n",
       "\n",
       "    .dataframe thead tr:last-of-type th {\n",
       "        text-align: right;\n",
       "    }\n",
       "</style>\n",
       "<table border=\"1\" class=\"dataframe\">\n",
       "  <thead>\n",
       "    <tr>\n",
       "      <th></th>\n",
       "      <th></th>\n",
       "      <th>mean</th>\n",
       "    </tr>\n",
       "    <tr>\n",
       "      <th></th>\n",
       "      <th></th>\n",
       "      <th>ride_length</th>\n",
       "    </tr>\n",
       "    <tr>\n",
       "      <th>dayofweek</th>\n",
       "      <th>member_casual</th>\n",
       "      <th></th>\n",
       "    </tr>\n",
       "  </thead>\n",
       "  <tbody>\n",
       "    <tr>\n",
       "      <th rowspan=\"2\" valign=\"top\">Friday</th>\n",
       "      <th>casual</th>\n",
       "      <td>27.912113</td>\n",
       "    </tr>\n",
       "    <tr>\n",
       "      <th>member</th>\n",
       "      <td>12.141034</td>\n",
       "    </tr>\n",
       "    <tr>\n",
       "      <th rowspan=\"2\" valign=\"top\">Monday</th>\n",
       "      <th>casual</th>\n",
       "      <td>29.078439</td>\n",
       "    </tr>\n",
       "    <tr>\n",
       "      <th>member</th>\n",
       "      <td>11.744953</td>\n",
       "    </tr>\n",
       "    <tr>\n",
       "      <th rowspan=\"2\" valign=\"top\">Saturday</th>\n",
       "      <th>casual</th>\n",
       "      <td>32.916518</td>\n",
       "    </tr>\n",
       "    <tr>\n",
       "      <th>member</th>\n",
       "      <td>13.877740</td>\n",
       "    </tr>\n",
       "    <tr>\n",
       "      <th rowspan=\"2\" valign=\"top\">Sunday</th>\n",
       "      <th>casual</th>\n",
       "      <td>33.989104</td>\n",
       "    </tr>\n",
       "    <tr>\n",
       "      <th>member</th>\n",
       "      <td>13.672580</td>\n",
       "    </tr>\n",
       "    <tr>\n",
       "      <th rowspan=\"2\" valign=\"top\">Thursday</th>\n",
       "      <th>casual</th>\n",
       "      <td>24.977246</td>\n",
       "    </tr>\n",
       "    <tr>\n",
       "      <th>member</th>\n",
       "      <td>11.915950</td>\n",
       "    </tr>\n",
       "    <tr>\n",
       "      <th rowspan=\"2\" valign=\"top\">Tuesday</th>\n",
       "      <th>casual</th>\n",
       "      <td>25.725120</td>\n",
       "    </tr>\n",
       "    <tr>\n",
       "      <th>member</th>\n",
       "      <td>11.734986</td>\n",
       "    </tr>\n",
       "    <tr>\n",
       "      <th rowspan=\"2\" valign=\"top\">Wednesday</th>\n",
       "      <th>casual</th>\n",
       "      <td>24.351959</td>\n",
       "    </tr>\n",
       "    <tr>\n",
       "      <th>member</th>\n",
       "      <td>11.656590</td>\n",
       "    </tr>\n",
       "    <tr>\n",
       "      <th>total count</th>\n",
       "      <th></th>\n",
       "      <td>19.053929</td>\n",
       "    </tr>\n",
       "  </tbody>\n",
       "</table>\n",
       "</div>"
      ],
      "text/plain": [
       "                                 mean\n",
       "                          ride_length\n",
       "dayofweek   member_casual            \n",
       "Friday      casual          27.912113\n",
       "            member          12.141034\n",
       "Monday      casual          29.078439\n",
       "            member          11.744953\n",
       "Saturday    casual          32.916518\n",
       "            member          13.877740\n",
       "Sunday      casual          33.989104\n",
       "            member          13.672580\n",
       "Thursday    casual          24.977246\n",
       "            member          11.915950\n",
       "Tuesday     casual          25.725120\n",
       "            member          11.734986\n",
       "Wednesday   casual          24.351959\n",
       "            member          11.656590\n",
       "total count                 19.053929"
      ]
     },
     "execution_count": 11,
     "metadata": {},
     "output_type": "execute_result"
    }
   ],
   "source": [
    "rdw_pivot = pd.pivot_table(tripdata, index=['dayofweek', 'member_casual'], values='ride_length', aggfunc=['mean'],\n",
    "                         margins=True, margins_name='total count')\n",
    "rdw_pivot"
   ]
  },
  {
   "cell_type": "markdown",
   "id": "53383fdb",
   "metadata": {
    "papermill": {
     "duration": 0.014936,
     "end_time": "2023-09-22T16:00:14.720741",
     "exception": false,
     "start_time": "2023-09-22T16:00:14.705805",
     "status": "completed"
    },
    "tags": []
   },
   "source": [
    "**This table shows us how many riders are riding each hour. We can see what time is most popular between rider types. If we visualize this we can clearly see a trend of what time people like to ride. **"
   ]
  },
  {
   "cell_type": "code",
   "execution_count": 12,
   "id": "c50a742a",
   "metadata": {
    "execution": {
     "iopub.execute_input": "2023-09-22T16:00:14.751845Z",
     "iopub.status.busy": "2023-09-22T16:00:14.751462Z",
     "iopub.status.idle": "2023-09-22T16:00:18.698134Z",
     "shell.execute_reply": "2023-09-22T16:00:18.696902Z"
    },
    "papermill": {
     "duration": 3.965582,
     "end_time": "2023-09-22T16:00:18.701007",
     "exception": false,
     "start_time": "2023-09-22T16:00:14.735425",
     "status": "completed"
    },
    "tags": []
   },
   "outputs": [
    {
     "data": {
      "text/html": [
       "<div>\n",
       "<style scoped>\n",
       "    .dataframe tbody tr th:only-of-type {\n",
       "        vertical-align: middle;\n",
       "    }\n",
       "\n",
       "    .dataframe tbody tr th {\n",
       "        vertical-align: top;\n",
       "    }\n",
       "\n",
       "    .dataframe thead tr th {\n",
       "        text-align: left;\n",
       "    }\n",
       "\n",
       "    .dataframe thead tr:last-of-type th {\n",
       "        text-align: right;\n",
       "    }\n",
       "</style>\n",
       "<table border=\"1\" class=\"dataframe\">\n",
       "  <thead>\n",
       "    <tr>\n",
       "      <th></th>\n",
       "      <th></th>\n",
       "      <th>count</th>\n",
       "    </tr>\n",
       "    <tr>\n",
       "      <th></th>\n",
       "      <th></th>\n",
       "      <th>ride_id</th>\n",
       "    </tr>\n",
       "    <tr>\n",
       "      <th>hour</th>\n",
       "      <th>member_casual</th>\n",
       "      <th></th>\n",
       "    </tr>\n",
       "  </thead>\n",
       "  <tbody>\n",
       "    <tr>\n",
       "      <th rowspan=\"2\" valign=\"top\">0</th>\n",
       "      <th>casual</th>\n",
       "      <td>39796</td>\n",
       "    </tr>\n",
       "    <tr>\n",
       "      <th>member</th>\n",
       "      <td>31733</td>\n",
       "    </tr>\n",
       "    <tr>\n",
       "      <th rowspan=\"2\" valign=\"top\">1</th>\n",
       "      <th>casual</th>\n",
       "      <td>25650</td>\n",
       "    </tr>\n",
       "    <tr>\n",
       "      <th>member</th>\n",
       "      <td>19448</td>\n",
       "    </tr>\n",
       "    <tr>\n",
       "      <th rowspan=\"2\" valign=\"top\">2</th>\n",
       "      <th>casual</th>\n",
       "      <td>16069</td>\n",
       "    </tr>\n",
       "    <tr>\n",
       "      <th>member</th>\n",
       "      <td>11278</td>\n",
       "    </tr>\n",
       "    <tr>\n",
       "      <th rowspan=\"2\" valign=\"top\">3</th>\n",
       "      <th>casual</th>\n",
       "      <td>9551</td>\n",
       "    </tr>\n",
       "    <tr>\n",
       "      <th>member</th>\n",
       "      <td>6966</td>\n",
       "    </tr>\n",
       "    <tr>\n",
       "      <th rowspan=\"2\" valign=\"top\">4</th>\n",
       "      <th>casual</th>\n",
       "      <td>6506</td>\n",
       "    </tr>\n",
       "    <tr>\n",
       "      <th>member</th>\n",
       "      <td>7756</td>\n",
       "    </tr>\n",
       "    <tr>\n",
       "      <th rowspan=\"2\" valign=\"top\">5</th>\n",
       "      <th>casual</th>\n",
       "      <td>10873</td>\n",
       "    </tr>\n",
       "    <tr>\n",
       "      <th>member</th>\n",
       "      <td>27607</td>\n",
       "    </tr>\n",
       "    <tr>\n",
       "      <th rowspan=\"2\" valign=\"top\">6</th>\n",
       "      <th>casual</th>\n",
       "      <td>26292</td>\n",
       "    </tr>\n",
       "    <tr>\n",
       "      <th>member</th>\n",
       "      <td>81614</td>\n",
       "    </tr>\n",
       "    <tr>\n",
       "      <th rowspan=\"2\" valign=\"top\">7</th>\n",
       "      <th>casual</th>\n",
       "      <td>45784</td>\n",
       "    </tr>\n",
       "    <tr>\n",
       "      <th>member</th>\n",
       "      <td>152979</td>\n",
       "    </tr>\n",
       "    <tr>\n",
       "      <th rowspan=\"2\" valign=\"top\">8</th>\n",
       "      <th>casual</th>\n",
       "      <td>61833</td>\n",
       "    </tr>\n",
       "    <tr>\n",
       "      <th>member</th>\n",
       "      <td>184478</td>\n",
       "    </tr>\n",
       "    <tr>\n",
       "      <th rowspan=\"2\" valign=\"top\">9</th>\n",
       "      <th>casual</th>\n",
       "      <td>63558</td>\n",
       "    </tr>\n",
       "    <tr>\n",
       "      <th>member</th>\n",
       "      <td>129383</td>\n",
       "    </tr>\n",
       "    <tr>\n",
       "      <th rowspan=\"2\" valign=\"top\">10</th>\n",
       "      <th>casual</th>\n",
       "      <td>81059</td>\n",
       "    </tr>\n",
       "    <tr>\n",
       "      <th>member</th>\n",
       "      <td>120997</td>\n",
       "    </tr>\n",
       "    <tr>\n",
       "      <th rowspan=\"2\" valign=\"top\">11</th>\n",
       "      <th>casual</th>\n",
       "      <td>104892</td>\n",
       "    </tr>\n",
       "    <tr>\n",
       "      <th>member</th>\n",
       "      <td>143481</td>\n",
       "    </tr>\n",
       "    <tr>\n",
       "      <th rowspan=\"2\" valign=\"top\">12</th>\n",
       "      <th>casual</th>\n",
       "      <td>124612</td>\n",
       "    </tr>\n",
       "    <tr>\n",
       "      <th>member</th>\n",
       "      <td>164695</td>\n",
       "    </tr>\n",
       "    <tr>\n",
       "      <th rowspan=\"2\" valign=\"top\">13</th>\n",
       "      <th>casual</th>\n",
       "      <td>129889</td>\n",
       "    </tr>\n",
       "    <tr>\n",
       "      <th>member</th>\n",
       "      <td>163981</td>\n",
       "    </tr>\n",
       "    <tr>\n",
       "      <th rowspan=\"2\" valign=\"top\">14</th>\n",
       "      <th>casual</th>\n",
       "      <td>137883</td>\n",
       "    </tr>\n",
       "    <tr>\n",
       "      <th>member</th>\n",
       "      <td>163332</td>\n",
       "    </tr>\n",
       "    <tr>\n",
       "      <th rowspan=\"2\" valign=\"top\">15</th>\n",
       "      <th>casual</th>\n",
       "      <td>154328</td>\n",
       "    </tr>\n",
       "    <tr>\n",
       "      <th>member</th>\n",
       "      <td>197134</td>\n",
       "    </tr>\n",
       "    <tr>\n",
       "      <th rowspan=\"2\" valign=\"top\">16</th>\n",
       "      <th>casual</th>\n",
       "      <td>172769</td>\n",
       "    </tr>\n",
       "    <tr>\n",
       "      <th>member</th>\n",
       "      <td>260895</td>\n",
       "    </tr>\n",
       "    <tr>\n",
       "      <th rowspan=\"2\" valign=\"top\">17</th>\n",
       "      <th>casual</th>\n",
       "      <td>192099</td>\n",
       "    </tr>\n",
       "    <tr>\n",
       "      <th>member</th>\n",
       "      <td>313060</td>\n",
       "    </tr>\n",
       "    <tr>\n",
       "      <th rowspan=\"2\" valign=\"top\">18</th>\n",
       "      <th>casual</th>\n",
       "      <td>171201</td>\n",
       "    </tr>\n",
       "    <tr>\n",
       "      <th>member</th>\n",
       "      <td>252807</td>\n",
       "    </tr>\n",
       "    <tr>\n",
       "      <th rowspan=\"2\" valign=\"top\">19</th>\n",
       "      <th>casual</th>\n",
       "      <td>131116</td>\n",
       "    </tr>\n",
       "    <tr>\n",
       "      <th>member</th>\n",
       "      <td>182904</td>\n",
       "    </tr>\n",
       "    <tr>\n",
       "      <th rowspan=\"2\" valign=\"top\">20</th>\n",
       "      <th>casual</th>\n",
       "      <td>96539</td>\n",
       "    </tr>\n",
       "    <tr>\n",
       "      <th>member</th>\n",
       "      <td>127780</td>\n",
       "    </tr>\n",
       "    <tr>\n",
       "      <th rowspan=\"2\" valign=\"top\">21</th>\n",
       "      <th>casual</th>\n",
       "      <td>82757</td>\n",
       "    </tr>\n",
       "    <tr>\n",
       "      <th>member</th>\n",
       "      <td>100484</td>\n",
       "    </tr>\n",
       "    <tr>\n",
       "      <th rowspan=\"2\" valign=\"top\">22</th>\n",
       "      <th>casual</th>\n",
       "      <td>73955</td>\n",
       "    </tr>\n",
       "    <tr>\n",
       "      <th>member</th>\n",
       "      <td>76056</td>\n",
       "    </tr>\n",
       "    <tr>\n",
       "      <th rowspan=\"2\" valign=\"top\">23</th>\n",
       "      <th>casual</th>\n",
       "      <td>54721</td>\n",
       "    </tr>\n",
       "    <tr>\n",
       "      <th>member</th>\n",
       "      <td>50018</td>\n",
       "    </tr>\n",
       "    <tr>\n",
       "      <th>total ride_id count</th>\n",
       "      <th></th>\n",
       "      <td>4984598</td>\n",
       "    </tr>\n",
       "  </tbody>\n",
       "</table>\n",
       "</div>"
      ],
      "text/plain": [
       "                                     count\n",
       "                                   ride_id\n",
       "hour                member_casual         \n",
       "0                   casual           39796\n",
       "                    member           31733\n",
       "1                   casual           25650\n",
       "                    member           19448\n",
       "2                   casual           16069\n",
       "                    member           11278\n",
       "3                   casual            9551\n",
       "                    member            6966\n",
       "4                   casual            6506\n",
       "                    member            7756\n",
       "5                   casual           10873\n",
       "                    member           27607\n",
       "6                   casual           26292\n",
       "                    member           81614\n",
       "7                   casual           45784\n",
       "                    member          152979\n",
       "8                   casual           61833\n",
       "                    member          184478\n",
       "9                   casual           63558\n",
       "                    member          129383\n",
       "10                  casual           81059\n",
       "                    member          120997\n",
       "11                  casual          104892\n",
       "                    member          143481\n",
       "12                  casual          124612\n",
       "                    member          164695\n",
       "13                  casual          129889\n",
       "                    member          163981\n",
       "14                  casual          137883\n",
       "                    member          163332\n",
       "15                  casual          154328\n",
       "                    member          197134\n",
       "16                  casual          172769\n",
       "                    member          260895\n",
       "17                  casual          192099\n",
       "                    member          313060\n",
       "18                  casual          171201\n",
       "                    member          252807\n",
       "19                  casual          131116\n",
       "                    member          182904\n",
       "20                  casual           96539\n",
       "                    member          127780\n",
       "21                  casual           82757\n",
       "                    member          100484\n",
       "22                  casual           73955\n",
       "                    member           76056\n",
       "23                  casual           54721\n",
       "                    member           50018\n",
       "total ride_id count                4984598"
      ]
     },
     "execution_count": 12,
     "metadata": {},
     "output_type": "execute_result"
    }
   ],
   "source": [
    "tnr_pivot = pd.pivot_table(tripdata, index=['hour', 'member_casual'], values='ride_id', aggfunc=['count'],\n",
    "                         margins=True, margins_name='total ride_id count')\n",
    "tnr_pivot"
   ]
  },
  {
   "cell_type": "markdown",
   "id": "b47790dc",
   "metadata": {
    "papermill": {
     "duration": 0.015466,
     "end_time": "2023-09-22T16:00:18.731819",
     "exception": false,
     "start_time": "2023-09-22T16:00:18.716353",
     "status": "completed"
    },
    "tags": []
   },
   "source": [
    "**Now we will get into visualizing our data**\n",
    "\n",
    "Below is a pie chart showing how many members vs casuals ride bikes in the city. Our members consist of 60% of all rides whereas casuals are 40%."
   ]
  },
  {
   "cell_type": "code",
   "execution_count": 13,
   "id": "20d852f3",
   "metadata": {
    "execution": {
     "iopub.execute_input": "2023-09-22T16:00:18.764517Z",
     "iopub.status.busy": "2023-09-22T16:00:18.764107Z",
     "iopub.status.idle": "2023-09-22T16:00:19.065998Z",
     "shell.execute_reply": "2023-09-22T16:00:19.063954Z"
    },
    "papermill": {
     "duration": 0.322393,
     "end_time": "2023-09-22T16:00:19.069915",
     "exception": false,
     "start_time": "2023-09-22T16:00:18.747522",
     "status": "completed"
    },
    "tags": []
   },
   "outputs": [
    {
     "data": {
      "text/plain": [
       "<Axes: title={'center': 'Rides by User Type'}, ylabel='Total Number of Rides'>"
      ]
     },
     "execution_count": 13,
     "metadata": {},
     "output_type": "execute_result"
    },
    {
     "data": {
      "image/png": "[encoded data removed]",
      "text/plain": [
       "<Figure size 600x600 with 1 Axes>"
      ]
     },
     "metadata": {},
     "output_type": "display_data"
    }
   ],
   "source": [
    "df['ride_id'].plot.pie(x = 'member_casual', ylabel = 'Total Number of Rides', title = 'Rides by User Type', legend=True, autopct = '%1.0f%%', figsize = (6,6))\n"
   ]
  },
  {
   "cell_type": "markdown",
   "id": "288e00e1",
   "metadata": {
    "papermill": {
     "duration": 0.016391,
     "end_time": "2023-09-22T16:00:19.102758",
     "exception": false,
     "start_time": "2023-09-22T16:00:19.086367",
     "status": "completed"
    },
    "tags": []
   },
   "source": [
    "**Here shows the difference in ride lengths from each group.**\n",
    "From this visualization we see that casuals prefer much longer rides than members. Through assumption, I believe casual riders prefer getting their moneys worth as well as a lot of tourists use it to ride around the city. "
   ]
  },
  {
   "cell_type": "code",
   "execution_count": 14,
   "id": "ca6e2c9f",
   "metadata": {
    "execution": {
     "iopub.execute_input": "2023-09-22T16:00:19.139357Z",
     "iopub.status.busy": "2023-09-22T16:00:19.138911Z",
     "iopub.status.idle": "2023-09-22T16:00:20.132532Z",
     "shell.execute_reply": "2023-09-22T16:00:20.131354Z"
    },
    "papermill": {
     "duration": 1.015011,
     "end_time": "2023-09-22T16:00:20.135394",
     "exception": false,
     "start_time": "2023-09-22T16:00:19.120383",
     "status": "completed"
    },
    "tags": []
   },
   "outputs": [
    {
     "data": {
      "image/png": "[encoded data removed]",
      "text/plain": [
       "<Figure size 400x400 with 1 Axes>"
      ]
     },
     "metadata": {},
     "output_type": "display_data"
    }
   ],
   "source": [
    "df1 = tripdata[['ride_length', 'member_casual']]\n",
    "df1 = df1.groupby(['member_casual'], as_index=False)[['ride_length']].mean()\n",
    "\n",
    "plt.figure(figsize = (4,4))\n",
    "sns.set_theme(style='white')\n",
    "sns.barplot(data=df1, x='member_casual', y='ride_length', palette='tab10').set_title('Average Ride Length')\n",
    "\n",
    "plt.xlabel('User Type')\n",
    "plt.ylabel('Average Ride Length (Minutes)')\n",
    "plt.show()"
   ]
  },
  {
   "cell_type": "markdown",
   "id": "81e0728b",
   "metadata": {
    "papermill": {
     "duration": 0.017254,
     "end_time": "2023-09-22T16:00:20.169504",
     "exception": false,
     "start_time": "2023-09-22T16:00:20.152250",
     "status": "completed"
    },
    "tags": []
   },
   "source": [
    "**Below shows which type of bikes is most popular between the different groups.**\n",
    "\n",
    "As in the table we can now clearly see that casual riders prefer electric bikes more than the classic bikes. Members prefer both equally. This could be a recommendation to get more casuals to members by adding more electric bikes near hotspots in the city."
   ]
  },
  {
   "cell_type": "code",
   "execution_count": 15,
   "id": "22fa1444",
   "metadata": {
    "execution": {
     "iopub.execute_input": "2023-09-22T16:00:20.204921Z",
     "iopub.status.busy": "2023-09-22T16:00:20.204503Z",
     "iopub.status.idle": "2023-09-22T16:00:22.745370Z",
     "shell.execute_reply": "2023-09-22T16:00:22.744173Z"
    },
    "papermill": {
     "duration": 2.562199,
     "end_time": "2023-09-22T16:00:22.748247",
     "exception": false,
     "start_time": "2023-09-22T16:00:20.186048",
     "status": "completed"
    },
    "tags": []
   },
   "outputs": [
    {
     "data": {
      "image/png": "[encoded data removed]",
      "text/plain": [
       "<Figure size 700x300 with 1 Axes>"
      ]
     },
     "metadata": {},
     "output_type": "display_data"
    }
   ],
   "source": [
    "df2 = tripdata[['rideable_type', 'member_casual', 'ride_id']]\n",
    "df2 = df2.groupby(['rideable_type', 'member_casual'], as_index=False)[['ride_id']].count()\n",
    "\n",
    "plt.figure(figsize = (7,3))\n",
    "sns.set_theme(style='white')\n",
    "plt.ticklabel_format(style='plain', axis='x')\n",
    "sns.barplot(x='ride_id', y='rideable_type', hue='member_casual', palette='tab10', data=df2).set_title('The Most Popular Rideable Type')\n",
    "\n",
    "plt.xlabel('Total Number of Rides')\n",
    "plt.ylabel('Rideable Type')\n",
    "plt.show()"
   ]
  },
  {
   "cell_type": "markdown",
   "id": "8f02b273",
   "metadata": {
    "papermill": {
     "duration": 0.017944,
     "end_time": "2023-09-22T16:00:22.784041",
     "exception": false,
     "start_time": "2023-09-22T16:00:22.766097",
     "status": "completed"
    },
    "tags": []
   },
   "source": [
    "****Now we will visualize how many rides members and casuals are taking each day. From this graph we can see that friday, saturday and sunday are really popular for our casual riders. Our members prefer riding throughout the week. This could possibly be because our members use this service to get to places such as work and school. "
   ]
  },
  {
   "cell_type": "code",
   "execution_count": 16,
   "id": "2b5713cf",
   "metadata": {
    "execution": {
     "iopub.execute_input": "2023-09-22T16:00:22.822355Z",
     "iopub.status.busy": "2023-09-22T16:00:22.821914Z",
     "iopub.status.idle": "2023-09-22T16:00:25.522024Z",
     "shell.execute_reply": "2023-09-22T16:00:25.520583Z"
    },
    "papermill": {
     "duration": 2.723074,
     "end_time": "2023-09-22T16:00:25.524881",
     "exception": false,
     "start_time": "2023-09-22T16:00:22.801807",
     "status": "completed"
    },
    "tags": []
   },
   "outputs": [
    {
     "data": {
      "image/png": "[encoded data removed]",
      "text/plain": [
       "<Figure size 800x600 with 1 Axes>"
      ]
     },
     "metadata": {},
     "output_type": "display_data"
    }
   ],
   "source": [
    "df3 = tripdata[['dayofweek', 'member_casual', 'ride_id']]\n",
    "df3 = df3.groupby(['dayofweek', 'member_casual'], as_index=False)[['ride_id']].count()\n",
    "\n",
    "plt.figure(figsize = (8,6))\n",
    "sns.set_theme(style='white')\n",
    "sns.barplot(data=df3, x='dayofweek', y='ride_id', hue='member_casual', palette='tab10',\n",
    "            order=['Monday', 'Tuesday', 'Wednesday', 'Thursday', 'Friday', 'Saturday',\n",
    "                   'Sunday']).set_title('The Most Popular Day of the Week for Bike Rentals')\n",
    "\n",
    "plt.xlabel('Days of the Week')\n",
    "plt.ylabel('Total Number of Rides')\n",
    "plt.show()"
   ]
  },
  {
   "cell_type": "markdown",
   "id": "3784e7a7",
   "metadata": {
    "papermill": {
     "duration": 0.018549,
     "end_time": "2023-09-22T16:00:25.561743",
     "exception": false,
     "start_time": "2023-09-22T16:00:25.543194",
     "status": "completed"
    },
    "tags": []
   },
   "source": [
    "****Similarly to the graph above, we will check how many rides each group is taking every month. We can see that during the winter months november-march not many riders are taking rides from each group. Summer time both groups are outside using bikes more frequently especially June and July where our casuals are almost taking just as much more rides than our members. "
   ]
  },
  {
   "cell_type": "code",
   "execution_count": 17,
   "id": "f43b5278",
   "metadata": {
    "execution": {
     "iopub.execute_input": "2023-09-22T16:00:25.599984Z",
     "iopub.status.busy": "2023-09-22T16:00:25.599326Z",
     "iopub.status.idle": "2023-09-22T16:00:28.312632Z",
     "shell.execute_reply": "2023-09-22T16:00:28.311605Z"
    },
    "papermill": {
     "duration": 2.735605,
     "end_time": "2023-09-22T16:00:28.315194",
     "exception": false,
     "start_time": "2023-09-22T16:00:25.579589",
     "status": "completed"
    },
    "tags": []
   },
   "outputs": [
    {
     "data": {
      "image/png": "[encoded data removed]",
      "text/plain": [
       "<Figure size 1100x300 with 1 Axes>"
      ]
     },
     "metadata": {},
     "output_type": "display_data"
    }
   ],
   "source": [
    "df4 = tripdata[['month', 'member_casual', 'ride_id']]\n",
    "df4 = df4.groupby(['month', 'member_casual'], as_index=False)[['ride_id']].count()\n",
    "\n",
    "plt.figure(figsize = (11,3))\n",
    "sns.set_theme(style='white')\n",
    "sns.barplot(data=df4, x='month', y='ride_id', hue='member_casual', palette='tab10', \n",
    "            order=['January', 'February', 'March', 'April', 'May', 'June', 'July', 'August', 'September', \n",
    "                   'October', 'November', 'December']).set_title('The Most Popular Month of the Year for Bike Rentals'),\n",
    "\n",
    "plt.xlabel('Months')\n",
    "plt.ylabel('Total Number of Rides')\n",
    "plt.show()"
   ]
  },
  {
   "cell_type": "markdown",
   "id": "906a1a4b",
   "metadata": {
    "papermill": {
     "duration": 0.018492,
     "end_time": "2023-09-22T16:00:28.352547",
     "exception": false,
     "start_time": "2023-09-22T16:00:28.334055",
     "status": "completed"
    },
    "tags": []
   },
   "source": [
    "**From the graph illustrated below, we notice that casuals take much longer on their rides than members. We also notice that for both groups, rides get longer during the weekend starting Friday and ending on Sunday. **"
   ]
  },
  {
   "cell_type": "code",
   "execution_count": 18,
   "id": "8499de63",
   "metadata": {
    "execution": {
     "iopub.execute_input": "2023-09-22T16:00:28.392958Z",
     "iopub.status.busy": "2023-09-22T16:00:28.391898Z",
     "iopub.status.idle": "2023-09-22T16:00:32.167185Z",
     "shell.execute_reply": "2023-09-22T16:00:32.166123Z"
    },
    "papermill": {
     "duration": 3.797998,
     "end_time": "2023-09-22T16:00:32.169509",
     "exception": false,
     "start_time": "2023-09-22T16:00:28.371511",
     "status": "completed"
    },
    "tags": []
   },
   "outputs": [
    {
     "data": {
      "image/png": "[encoded data removed]",
      "text/plain": [
       "<Figure size 1400x600 with 1 Axes>"
      ]
     },
     "metadata": {},
     "output_type": "display_data"
    }
   ],
   "source": [
    "cats = [ 'Monday', 'Tuesday', 'Wednesday', 'Thursday', 'Friday', 'Saturday', 'Sunday']\n",
    "cat_type = CategoricalDtype(categories=cats, ordered=True)\n",
    "tripdata['dayofweek'] = tripdata['dayofweek'].astype(cat_type)\n",
    "df5 = tripdata.copy()\n",
    "\n",
    "df5 = tripdata[['dayofweek', 'member_casual', 'ride_length']]\n",
    "df5 = df5.groupby(['dayofweek', 'member_casual'], as_index=False)[['ride_length']].mean()\n",
    "\n",
    "sns.set_theme(style='whitegrid')\n",
    "plt.figure(figsize = (14,6))\n",
    "sns.lineplot(data=df5, x='dayofweek', y='ride_length', hue='member_casual', style='member_casual', palette='tab10', \n",
    "             markers=True).set_title('Average Ride Length by Day of the Week')\n",
    "\n",
    "plt.xlabel('Days of the Week')\n",
    "plt.ylabel('Ride Length (Minutes)')\n",
    "plt.show()"
   ]
  },
  {
   "cell_type": "markdown",
   "id": "c9b82f3b",
   "metadata": {
    "papermill": {
     "duration": 0.020243,
     "end_time": "2023-09-22T16:00:32.210098",
     "exception": false,
     "start_time": "2023-09-22T16:00:32.189855",
     "status": "completed"
    },
    "tags": []
   },
   "source": [
    "**For both groups the graph below shows similar trends. Queit during the winter months and busy during the summer reaching the peak during June. **"
   ]
  },
  {
   "cell_type": "code",
   "execution_count": 19,
   "id": "d0a8a33f",
   "metadata": {
    "execution": {
     "iopub.execute_input": "2023-09-22T16:00:32.253217Z",
     "iopub.status.busy": "2023-09-22T16:00:32.252065Z",
     "iopub.status.idle": "2023-09-22T16:00:35.440088Z",
     "shell.execute_reply": "2023-09-22T16:00:35.438630Z"
    },
    "papermill": {
     "duration": 3.212149,
     "end_time": "2023-09-22T16:00:35.442922",
     "exception": false,
     "start_time": "2023-09-22T16:00:32.230773",
     "status": "completed"
    },
    "tags": []
   },
   "outputs": [
    {
     "data": {
      "image/png": "[encoded data removed]",
      "text/plain": [
       "<Figure size 1400x600 with 1 Axes>"
      ]
     },
     "metadata": {},
     "output_type": "display_data"
    }
   ],
   "source": [
    "cats = [ 'January', 'February', 'March', 'April', 'May', 'June', 'July', 'August', 'September', 'October', 'November', 'December']\n",
    "cat_type = CategoricalDtype(categories=cats, ordered=True)\n",
    "tripdata['month'] = tripdata['month'].astype(cat_type)\n",
    "df6 = tripdata.copy()\n",
    "\n",
    "df6 = tripdata[['month', 'member_casual', 'ride_length']]\n",
    "df6 = df6.groupby(['month', 'member_casual'], as_index=False)[['ride_length']].mean()\n",
    "\n",
    "sns.set_theme(style='whitegrid')\n",
    "plt.figure(figsize = (14,6))\n",
    "sns.lineplot(data=df6, x='month', y='ride_length', hue='member_casual', palette='tab10', \n",
    "             style='member_casual', markers=True).set_title('Average Ride Length by Month')\n",
    "plt.xlabel('Months')\n",
    "plt.ylabel('Ride Length (Minutes)')\n",
    "plt.show()"
   ]
  },
  {
   "cell_type": "markdown",
   "id": "d42a2f02",
   "metadata": {
    "papermill": {
     "duration": 0.020629,
     "end_time": "2023-09-22T16:00:35.485119",
     "exception": false,
     "start_time": "2023-09-22T16:00:35.464490",
     "status": "completed"
    },
    "tags": []
   },
   "source": [
    "**Finally the last graph illustrates the times each group is taking rides. We notice members get much more active in the morning between 5-10am which could mean that members are using these services for work or school early in the morning. Between 10am-3pm it slowly builds up where it finally reaches it's peak between 3pm-6pm. It then finally starts dying out after 7pm. Casual riders follow a very similar trend. **"
   ]
  },
  {
   "cell_type": "code",
   "execution_count": 20,
   "id": "d00d1ada",
   "metadata": {
    "execution": {
     "iopub.execute_input": "2023-09-22T16:00:35.530035Z",
     "iopub.status.busy": "2023-09-22T16:00:35.529173Z",
     "iopub.status.idle": "2023-09-22T16:00:37.546181Z",
     "shell.execute_reply": "2023-09-22T16:00:37.544892Z"
    },
    "papermill": {
     "duration": 2.043187,
     "end_time": "2023-09-22T16:00:37.549388",
     "exception": false,
     "start_time": "2023-09-22T16:00:35.506201",
     "status": "completed"
    },
    "tags": []
   },
   "outputs": [
    {
     "data": {
      "image/png": "[encoded data removed]",
      "text/plain": [
       "<Figure size 1400x600 with 1 Axes>"
      ]
     },
     "metadata": {},
     "output_type": "display_data"
    }
   ],
   "source": [
    "df7 = tripdata[['hour', 'member_casual', 'ride_id']]\n",
    "df7 = df7.groupby(['hour', 'member_casual'], as_index=False)[['ride_id']].count()\n",
    "\n",
    "sns.set_theme(style='whitegrid')\n",
    "plt.figure(figsize = (14,6))\n",
    "sns.lineplot(data=df7, x='hour', y='ride_id', hue='member_casual', palette='tab10',\n",
    "             style='member_casual', markers=True).set_title('Total Number of Rides per Hour')\n",
    "plt.xlabel('Hours')\n",
    "plt.ylabel('Number of Rides')\n",
    "plt.show()\n"
   ]
  },
  {
   "cell_type": "markdown",
   "id": "1b0d138d",
   "metadata": {
    "papermill": {
     "duration": 0.022332,
     "end_time": "2023-09-22T16:00:37.594468",
     "exception": false,
     "start_time": "2023-09-22T16:00:37.572136",
     "status": "completed"
    },
    "tags": []
   },
   "source": [
    "**Now based on all of this information, let us go back to the three main questions we are trying to answer. **\n",
    "\n",
    "1. How do annual members and casual riders use Cyclistic bikes differently?\n",
    "Members consists of 60% of all rides taken. They take much shorter trips and are usually more active during the weekdays, which could mean they are using it to get to school/work. Members prefer both electric and classic bikes equally. Casual riders consists of 40% of rides taken. Compared to members, they take much longer trips and prefer electric bikes. \n",
    "2. Why would casual riders buy Cyclistic annual memberships?\n",
    "If we were to try and convert casual riders to members, the first thing I would recommend is advertising it much more during the summer months starting from April. That is when we see a lot more casuals starting to use bikes. I would also invest in more electric bikes as we can see almost their is about 400000 more casual riders that take electric bikes as opposed to classic bikes. \n",
    "3. How can Cyclistic use digital media to influence casual riders to become members?\n",
    "As stated above, I would use digital media to start marketing it as early as April for all riders. I would put advertisements during peak hours and try and show casual riders how you can use the riding services to commute to work/school and not only for pleasure. "
   ]
  }
 ],
 "metadata": {
  "kernelspec": {
   "display_name": "Python 3",
   "language": "python",
   "name": "python3"
  },
  "language_info": {
   "codemirror_mode": {
    "name": "ipython",
    "version": 3
   },
   "file_extension": ".py",
   "mimetype": "text/x-python",
   "name": "python",
   "nbconvert_exporter": "python",
   "pygments_lexer": "ipython3",
   "version": "3.10.12"
  },
  "papermill": {
   "default_parameters": {},
   "duration": 130.98389,
   "end_time": "2023-09-22T16:00:39.546530",
   "environment_variables": {},
   "exception": null,
   "input_path": "__notebook__.ipynb",
   "output_path": "__notebook__.ipynb",
   "parameters": {},
   "start_time": "2023-09-22T15:58:28.562640",
   "version": "2.4.0"
  }
 },
 "nbformat": 4,
 "nbformat_minor": 5
}
